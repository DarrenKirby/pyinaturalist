{
 "cells": [
  {
   "cell_type": "markdown",
   "id": "attached-priority",
   "metadata": {},
   "source": [
    "# Regional activity time series visualizations\n",
    "This example shows how to create visualizations of iNaturalist activity over time in a given region.\n",
    "See https://www.inaturalist.org/places to find place IDs.\n",
    "\n",
    "Visualization are made using [Altair](https://altair-viz.github.io), with the following metrics:\n",
    "* Number of observations\n",
    "* Number of taxa observed\n",
    "* Number of observers\n",
    "* Number of identifiers"
   ]
  },
  {
   "cell_type": "code",
   "execution_count": 1,
   "id": "prostate-overall",
   "metadata": {},
   "outputs": [],
   "source": [
    "from datetime import datetime\n",
    "from time import sleep\n",
    "\n",
    "from dateutil.relativedelta import relativedelta\n",
    "from IPython.display import Image\n",
    "from typing import Any, BinaryIO, Dict, Iterable, List, Optional, Tuple\n",
    "\n",
    "import altair as alt\n",
    "import pandas as pd\n",
    "\n",
    "from pyinaturalist.node_api import (\n",
    "    get_observations,\n",
    "    get_observation_histogram,\n",
    "    get_observation_species_counts,\n",
    "    get_observation_observers,\n",
    "    get_observation_identifiers,\n",
    ")\n",
    "from pyinaturalist.request_params import ICONIC_TAXA, get_interval_ranges\n",
    "\n",
    "# Adjustable values\n",
    "PLACE_ID = 6\n",
    "PLACE_NAME = 'Alaska'\n",
    "YEAR = 2020\n",
    "\n",
    "THROTTLING_DELAY = 1.0  # Time to wait in between subsequent requests"
   ]
  },
  {
   "cell_type": "markdown",
   "id": "angry-longer",
   "metadata": {},
   "source": [
    "### Show observation counts by year"
   ]
  },
  {
   "cell_type": "code",
   "execution_count": 2,
   "id": "joint-interference",
   "metadata": {},
   "outputs": [
    {
     "data": {
      "text/html": [
       "\n",
       "<div id=\"altair-viz-8644a5a9293747ee9896fd1f5f04656d\"></div>\n",
       "<script type=\"text/javascript\">\n",
       "  (function(spec, embedOpt){\n",
       "    let outputDiv = document.currentScript.previousElementSibling;\n",
       "    if (outputDiv.id !== \"altair-viz-8644a5a9293747ee9896fd1f5f04656d\") {\n",
       "      outputDiv = document.getElementById(\"altair-viz-8644a5a9293747ee9896fd1f5f04656d\");\n",
       "    }\n",
       "    const paths = {\n",
       "      \"vega\": \"https://cdn.jsdelivr.net/npm//vega@5?noext\",\n",
       "      \"vega-lib\": \"https://cdn.jsdelivr.net/npm//vega-lib?noext\",\n",
       "      \"vega-lite\": \"https://cdn.jsdelivr.net/npm//vega-lite@4.8.1?noext\",\n",
       "      \"vega-embed\": \"https://cdn.jsdelivr.net/npm//vega-embed@6?noext\",\n",
       "    };\n",
       "\n",
       "    function loadScript(lib) {\n",
       "      return new Promise(function(resolve, reject) {\n",
       "        var s = document.createElement('script');\n",
       "        s.src = paths[lib];\n",
       "        s.async = true;\n",
       "        s.onload = () => resolve(paths[lib]);\n",
       "        s.onerror = () => reject(`Error loading script: ${paths[lib]}`);\n",
       "        document.getElementsByTagName(\"head\")[0].appendChild(s);\n",
       "      });\n",
       "    }\n",
       "\n",
       "    function showError(err) {\n",
       "      outputDiv.innerHTML = `<div class=\"error\" style=\"color:red;\">${err}</div>`;\n",
       "      throw err;\n",
       "    }\n",
       "\n",
       "    function displayChart(vegaEmbed) {\n",
       "      vegaEmbed(outputDiv, spec, embedOpt)\n",
       "        .catch(err => showError(`Javascript Error: ${err.message}<br>This usually means there's a typo in your chart specification. See the javascript console for the full traceback.`));\n",
       "    }\n",
       "\n",
       "    if(typeof define === \"function\" && define.amd) {\n",
       "      requirejs.config({paths});\n",
       "      require([\"vega-embed\"], displayChart, err => showError(`Error loading script: ${err.message}`));\n",
       "    } else if (typeof vegaEmbed === \"function\") {\n",
       "      displayChart(vegaEmbed);\n",
       "    } else {\n",
       "      loadScript(\"vega\")\n",
       "        .then(() => loadScript(\"vega-lite\"))\n",
       "        .then(() => loadScript(\"vega-embed\"))\n",
       "        .catch(showError)\n",
       "        .then(() => displayChart(vegaEmbed));\n",
       "    }\n",
       "  })({\"config\": {\"view\": {\"continuousWidth\": 400, \"continuousHeight\": 300}}, \"data\": {\"name\": \"data-ca595238ca2eb43c2db38892c4edea70\"}, \"mark\": \"bar\", \"encoding\": {\"x\": {\"type\": \"temporal\", \"field\": \"date\", \"timeUnit\": \"year\"}, \"y\": {\"type\": \"quantitative\", \"field\": \"observations\"}}, \"$schema\": \"https://vega.github.io/schema/vega-lite/v4.8.1.json\", \"datasets\": {\"data-ca595238ca2eb43c2db38892c4edea70\": [{\"date\": \"2008-01-01T00:00:00\", \"observations\": 1969}, {\"date\": \"2009-01-01T00:00:00\", \"observations\": 1377}, {\"date\": \"2010-01-01T00:00:00\", \"observations\": 2026}, {\"date\": \"2011-01-01T00:00:00\", \"observations\": 1428}, {\"date\": \"2012-01-01T00:00:00\", \"observations\": 4607}, {\"date\": \"2013-01-01T00:00:00\", \"observations\": 2142}, {\"date\": \"2014-01-01T00:00:00\", \"observations\": 3415}, {\"date\": \"2015-01-01T00:00:00\", \"observations\": 4971}, {\"date\": \"2016-01-01T00:00:00\", \"observations\": 8360}, {\"date\": \"2017-01-01T00:00:00\", \"observations\": 21439}, {\"date\": \"2018-01-01T00:00:00\", \"observations\": 25593}, {\"date\": \"2019-01-01T00:00:00\", \"observations\": 36506}, {\"date\": \"2020-01-01T00:00:00\", \"observations\": 39532}]}}, {\"mode\": \"vega-lite\"});\n",
       "</script>"
      ],
      "text/plain": [
       "alt.Chart(...)"
      ]
     },
     "execution_count": 2,
     "metadata": {},
     "output_type": "execute_result"
    }
   ],
   "source": [
    "observations_by_year = get_observation_histogram(\n",
    "    place_id=PLACE_ID,\n",
    "    interval='year',\n",
    "    d1='2008-01-01',\n",
    "    d2=f'{YEAR}-12-31',\n",
    "    verifiable=True,\n",
    ")\n",
    "observations_by_year = pd.DataFrame([\n",
    "    {'date': k, 'observations': v}\n",
    "    for k, v in observations_by_year.items()\n",
    "])\n",
    "alt.Chart(observations_by_year).mark_bar().encode(x='year(date):T', y='observations:Q')"
   ]
  },
  {
   "cell_type": "code",
   "execution_count": 3,
   "id": "complex-yacht",
   "metadata": {},
   "outputs": [
    {
     "data": {
      "image/png": "[encoded data removed]",
      "text/plain": [
       "<IPython.core.display.Image object>"
      ]
     },
     "execution_count": 3,
     "metadata": {},
     "output_type": "execute_result"
    }
   ],
   "source": [
    "# Including the rendered image so the chart will display outside Jupyter, e.g. on GitHub's notebook viewer\n",
    "Image('images/observations_by_year.png')"
   ]
  },
  {
   "cell_type": "markdown",
   "id": "invisible-needle",
   "metadata": {},
   "source": [
    "### Show observation counts by month"
   ]
  },
  {
   "cell_type": "code",
   "execution_count": 4,
   "id": "dietary-tours",
   "metadata": {},
   "outputs": [
    {
     "data": {
      "text/html": [
       "\n",
       "<div id=\"altair-viz-85c1aab0fa4c4360b983a76ee1c231ba\"></div>\n",
       "<script type=\"text/javascript\">\n",
       "  (function(spec, embedOpt){\n",
       "    let outputDiv = document.currentScript.previousElementSibling;\n",
       "    if (outputDiv.id !== \"altair-viz-85c1aab0fa4c4360b983a76ee1c231ba\") {\n",
       "      outputDiv = document.getElementById(\"altair-viz-85c1aab0fa4c4360b983a76ee1c231ba\");\n",
       "    }\n",
       "    const paths = {\n",
       "      \"vega\": \"https://cdn.jsdelivr.net/npm//vega@5?noext\",\n",
       "      \"vega-lib\": \"https://cdn.jsdelivr.net/npm//vega-lib?noext\",\n",
       "      \"vega-lite\": \"https://cdn.jsdelivr.net/npm//vega-lite@4.8.1?noext\",\n",
       "      \"vega-embed\": \"https://cdn.jsdelivr.net/npm//vega-embed@6?noext\",\n",
       "    };\n",
       "\n",
       "    function loadScript(lib) {\n",
       "      return new Promise(function(resolve, reject) {\n",
       "        var s = document.createElement('script');\n",
       "        s.src = paths[lib];\n",
       "        s.async = true;\n",
       "        s.onload = () => resolve(paths[lib]);\n",
       "        s.onerror = () => reject(`Error loading script: ${paths[lib]}`);\n",
       "        document.getElementsByTagName(\"head\")[0].appendChild(s);\n",
       "      });\n",
       "    }\n",
       "\n",
       "    function showError(err) {\n",
       "      outputDiv.innerHTML = `<div class=\"error\" style=\"color:red;\">${err}</div>`;\n",
       "      throw err;\n",
       "    }\n",
       "\n",
       "    function displayChart(vegaEmbed) {\n",
       "      vegaEmbed(outputDiv, spec, embedOpt)\n",
       "        .catch(err => showError(`Javascript Error: ${err.message}<br>This usually means there's a typo in your chart specification. See the javascript console for the full traceback.`));\n",
       "    }\n",
       "\n",
       "    if(typeof define === \"function\" && define.amd) {\n",
       "      requirejs.config({paths});\n",
       "      require([\"vega-embed\"], displayChart, err => showError(`Error loading script: ${err.message}`));\n",
       "    } else if (typeof vegaEmbed === \"function\") {\n",
       "      displayChart(vegaEmbed);\n",
       "    } else {\n",
       "      loadScript(\"vega\")\n",
       "        .then(() => loadScript(\"vega-lite\"))\n",
       "        .then(() => loadScript(\"vega-embed\"))\n",
       "        .catch(showError)\n",
       "        .then(() => displayChart(vegaEmbed));\n",
       "    }\n",
       "  })({\"config\": {\"view\": {\"continuousWidth\": 400, \"continuousHeight\": 300}}, \"data\": {\"name\": \"data-704e70edead29514630294d43c67d494\"}, \"mark\": \"bar\", \"encoding\": {\"x\": {\"type\": \"temporal\", \"field\": \"date\", \"timeUnit\": \"month\"}, \"y\": {\"type\": \"quantitative\", \"field\": \"count\"}}, \"$schema\": \"https://vega.github.io/schema/vega-lite/v4.8.1.json\", \"datasets\": {\"data-704e70edead29514630294d43c67d494\": [{\"metric\": \"Observations\", \"date\": \"2020-01-01T00:00:00\", \"count\": 423}, {\"metric\": \"Observations\", \"date\": \"2020-02-01T00:00:00\", \"count\": 374}, {\"metric\": \"Observations\", \"date\": \"2020-03-01T00:00:00\", \"count\": 659}, {\"metric\": \"Observations\", \"date\": \"2020-04-01T00:00:00\", \"count\": 2665}, {\"metric\": \"Observations\", \"date\": \"2020-05-01T00:00:00\", \"count\": 5859}, {\"metric\": \"Observations\", \"date\": \"2020-06-01T00:00:00\", \"count\": 6240}, {\"metric\": \"Observations\", \"date\": \"2020-07-01T00:00:00\", \"count\": 7639}, {\"metric\": \"Observations\", \"date\": \"2020-08-01T00:00:00\", \"count\": 7011}, {\"metric\": \"Observations\", \"date\": \"2020-09-01T00:00:00\", \"count\": 4669}, {\"metric\": \"Observations\", \"date\": \"2020-10-01T00:00:00\", \"count\": 1510}, {\"metric\": \"Observations\", \"date\": \"2020-11-01T00:00:00\", \"count\": 976}, {\"metric\": \"Observations\", \"date\": \"2020-12-01T00:00:00\", \"count\": 1504}]}}, {\"mode\": \"vega-lite\"});\n",
       "</script>"
      ],
      "text/plain": [
       "alt.Chart(...)"
      ]
     },
     "execution_count": 4,
     "metadata": {},
     "output_type": "execute_result"
    }
   ],
   "source": [
    "observations_by_month = get_observation_histogram(\n",
    "    place_id=PLACE_ID,\n",
    "    interval='month',\n",
    "    d1='2020-01-02',\n",
    "    d2='2020-12-31',\n",
    "    verifiable=True,\n",
    ")\n",
    "observations_by_month = pd.DataFrame([\n",
    "    {'metric': 'Observations', 'date': k, 'count': v}\n",
    "    for k, v in observations_by_month.items()\n",
    "])\n",
    "alt.Chart(observations_by_month).mark_bar().encode(x='month(date):T', y='count:Q')"
   ]
  },
  {
   "cell_type": "code",
   "execution_count": 5,
   "id": "clinical-madagascar",
   "metadata": {},
   "outputs": [
    {
     "data": {
      "image/png": "[encoded data removed]",
      "text/plain": [
       "<IPython.core.display.Image object>"
      ]
     },
     "execution_count": 5,
     "metadata": {},
     "output_type": "execute_result"
    }
   ],
   "source": [
    "Image('images/observations_by_month.png')"
   ]
  },
  {
   "cell_type": "markdown",
   "id": "genetic-camping",
   "metadata": {},
   "source": [
    "### Making histograms for custom metrics\n",
    "The API does not have a histogram endpoint for taxa observed, observers, or identifiers,\n",
    "so we first need to determine our date ranges of interest, and then run one search per date range.\n",
    "\n",
    "Here are a couple helper functions to make this easier:"
   ]
  },
  {
   "cell_type": "code",
   "execution_count": 6,
   "id": "duplicate-attribute",
   "metadata": {},
   "outputs": [],
   "source": [
    "def count_date_range_results(function, start_date, end_date):\n",
    "    \"\"\"Get the count of results for the given date range and search function\"\"\"\n",
    "    # Running this search with per_page=0 will (quickly) return only a count of results, not complete results\n",
    "    response = function(\n",
    "        place_id=PLACE_ID,\n",
    "        d1=start_date,\n",
    "        d2=end_date,\n",
    "        verifiable=True,\n",
    "        per_page=0,\n",
    "    )\n",
    "    print(f'Total results for {start_date.strftime(\"%b\")}: {response[\"total_results\"]}')\n",
    "    return response['total_results']\n",
    "    if start_date.month != 12:\n",
    "        sleep(THROTTLING_DELAY)\n",
    "\n",
    "\n",
    "def get_monthly_counts(function, label):\n",
    "    \"\"\"Get the count of results per month for the given search function\"\"\"\n",
    "    month_ranges = get_interval_ranges(datetime(YEAR, 1, 1), datetime(YEAR, 12, 31), 'monthly')\n",
    "    counts_by_month = {\n",
    "        start_date: count_date_range_results(function, start_date, end_date)\n",
    "        for (start_date, end_date) in month_ranges\n",
    "    }\n",
    "    return pd.DataFrame([{'metric': label, 'date': k, 'count': v} for k, v in counts_by_month.items()])"
   ]
  },
  {
   "cell_type": "markdown",
   "id": "induced-stone",
   "metadata": {},
   "source": [
    "### Show unique taxa observed per month"
   ]
  },
  {
   "cell_type": "code",
   "execution_count": 7,
   "id": "exempt-victor",
   "metadata": {},
   "outputs": [
    {
     "name": "stdout",
     "output_type": "stream",
     "text": [
      "Total results for Jan: 183\n",
      "Total results for Feb: 176\n",
      "Total results for Mar: 318\n",
      "Total results for Apr: 790\n",
      "Total results for May: 1333\n",
      "Total results for Jun: 1482\n",
      "Total results for Jul: 1686\n",
      "Total results for Aug: 1569\n",
      "Total results for Sep: 1249\n",
      "Total results for Oct: 638\n",
      "Total results for Nov: 408\n",
      "Total results for Dec: 550\n"
     ]
    },
    {
     "data": {
      "text/html": [
       "\n",
       "<div id=\"altair-viz-c8fd4aa4034348d3b6d9948c34daf211\"></div>\n",
       "<script type=\"text/javascript\">\n",
       "  (function(spec, embedOpt){\n",
       "    let outputDiv = document.currentScript.previousElementSibling;\n",
       "    if (outputDiv.id !== \"altair-viz-c8fd4aa4034348d3b6d9948c34daf211\") {\n",
       "      outputDiv = document.getElementById(\"altair-viz-c8fd4aa4034348d3b6d9948c34daf211\");\n",
       "    }\n",
       "    const paths = {\n",
       "      \"vega\": \"https://cdn.jsdelivr.net/npm//vega@5?noext\",\n",
       "      \"vega-lib\": \"https://cdn.jsdelivr.net/npm//vega-lib?noext\",\n",
       "      \"vega-lite\": \"https://cdn.jsdelivr.net/npm//vega-lite@4.8.1?noext\",\n",
       "      \"vega-embed\": \"https://cdn.jsdelivr.net/npm//vega-embed@6?noext\",\n",
       "    };\n",
       "\n",
       "    function loadScript(lib) {\n",
       "      return new Promise(function(resolve, reject) {\n",
       "        var s = document.createElement('script');\n",
       "        s.src = paths[lib];\n",
       "        s.async = true;\n",
       "        s.onload = () => resolve(paths[lib]);\n",
       "        s.onerror = () => reject(`Error loading script: ${paths[lib]}`);\n",
       "        document.getElementsByTagName(\"head\")[0].appendChild(s);\n",
       "      });\n",
       "    }\n",
       "\n",
       "    function showError(err) {\n",
       "      outputDiv.innerHTML = `<div class=\"error\" style=\"color:red;\">${err}</div>`;\n",
       "      throw err;\n",
       "    }\n",
       "\n",
       "    function displayChart(vegaEmbed) {\n",
       "      vegaEmbed(outputDiv, spec, embedOpt)\n",
       "        .catch(err => showError(`Javascript Error: ${err.message}<br>This usually means there's a typo in your chart specification. See the javascript console for the full traceback.`));\n",
       "    }\n",
       "\n",
       "    if(typeof define === \"function\" && define.amd) {\n",
       "      requirejs.config({paths});\n",
       "      require([\"vega-embed\"], displayChart, err => showError(`Error loading script: ${err.message}`));\n",
       "    } else if (typeof vegaEmbed === \"function\") {\n",
       "      displayChart(vegaEmbed);\n",
       "    } else {\n",
       "      loadScript(\"vega\")\n",
       "        .then(() => loadScript(\"vega-lite\"))\n",
       "        .then(() => loadScript(\"vega-embed\"))\n",
       "        .catch(showError)\n",
       "        .then(() => displayChart(vegaEmbed));\n",
       "    }\n",
       "  })({\"config\": {\"view\": {\"continuousWidth\": 400, \"continuousHeight\": 300}}, \"data\": {\"name\": \"data-0af9301024bf08b48f326d29f685d459\"}, \"mark\": \"bar\", \"encoding\": {\"x\": {\"type\": \"temporal\", \"field\": \"date\", \"timeUnit\": \"month\"}, \"y\": {\"type\": \"quantitative\", \"field\": \"count\"}}, \"$schema\": \"https://vega.github.io/schema/vega-lite/v4.8.1.json\", \"datasets\": {\"data-0af9301024bf08b48f326d29f685d459\": [{\"metric\": \"Taxa\", \"date\": \"2020-01-01T00:00:00\", \"count\": 183}, {\"metric\": \"Taxa\", \"date\": \"2020-02-01T00:00:00\", \"count\": 176}, {\"metric\": \"Taxa\", \"date\": \"2020-03-01T00:00:00\", \"count\": 318}, {\"metric\": \"Taxa\", \"date\": \"2020-04-01T00:00:00\", \"count\": 790}, {\"metric\": \"Taxa\", \"date\": \"2020-05-01T00:00:00\", \"count\": 1333}, {\"metric\": \"Taxa\", \"date\": \"2020-06-01T00:00:00\", \"count\": 1482}, {\"metric\": \"Taxa\", \"date\": \"2020-07-01T00:00:00\", \"count\": 1686}, {\"metric\": \"Taxa\", \"date\": \"2020-08-01T00:00:00\", \"count\": 1569}, {\"metric\": \"Taxa\", \"date\": \"2020-09-01T00:00:00\", \"count\": 1249}, {\"metric\": \"Taxa\", \"date\": \"2020-10-01T00:00:00\", \"count\": 638}, {\"metric\": \"Taxa\", \"date\": \"2020-11-01T00:00:00\", \"count\": 408}, {\"metric\": \"Taxa\", \"date\": \"2020-12-01T00:00:00\", \"count\": 550}]}}, {\"mode\": \"vega-lite\"});\n",
       "</script>"
      ],
      "text/plain": [
       "alt.Chart(...)"
      ]
     },
     "execution_count": 7,
     "metadata": {},
     "output_type": "execute_result"
    }
   ],
   "source": [
    "taxa_by_month = get_monthly_counts(get_observation_species_counts, 'Taxa')\n",
    "alt.Chart(taxa_by_month).mark_bar().encode(x='month(date):T', y='count:Q')"
   ]
  },
  {
   "cell_type": "code",
   "execution_count": 8,
   "id": "talented-andrews",
   "metadata": {},
   "outputs": [
    {
     "data": {
      "image/png": "[encoded data removed]",
      "text/plain": [
       "<IPython.core.display.Image object>"
      ]
     },
     "execution_count": 8,
     "metadata": {},
     "output_type": "execute_result"
    }
   ],
   "source": [
    "Image('images/taxa_by_month.png')"
   ]
  },
  {
   "cell_type": "markdown",
   "id": "brief-daniel",
   "metadata": {},
   "source": [
    "### Show number of observers per month"
   ]
  },
  {
   "cell_type": "code",
   "execution_count": 9,
   "id": "generous-candy",
   "metadata": {},
   "outputs": [
    {
     "name": "stdout",
     "output_type": "stream",
     "text": [
      "Total results for Jan: 36\n",
      "Total results for Feb: 41\n",
      "Total results for Mar: 71\n",
      "Total results for Apr: 140\n",
      "Total results for May: 361\n",
      "Total results for Jun: 456\n",
      "Total results for Jul: 529\n",
      "Total results for Aug: 562\n",
      "Total results for Sep: 404\n",
      "Total results for Oct: 173\n",
      "Total results for Nov: 85\n",
      "Total results for Dec: 50\n"
     ]
    },
    {
     "data": {
      "text/html": [
       "\n",
       "<div id=\"altair-viz-ab1340bdf62b42bfaa61fa8fa57c8107\"></div>\n",
       "<script type=\"text/javascript\">\n",
       "  (function(spec, embedOpt){\n",
       "    let outputDiv = document.currentScript.previousElementSibling;\n",
       "    if (outputDiv.id !== \"altair-viz-ab1340bdf62b42bfaa61fa8fa57c8107\") {\n",
       "      outputDiv = document.getElementById(\"altair-viz-ab1340bdf62b42bfaa61fa8fa57c8107\");\n",
       "    }\n",
       "    const paths = {\n",
       "      \"vega\": \"https://cdn.jsdelivr.net/npm//vega@5?noext\",\n",
       "      \"vega-lib\": \"https://cdn.jsdelivr.net/npm//vega-lib?noext\",\n",
       "      \"vega-lite\": \"https://cdn.jsdelivr.net/npm//vega-lite@4.8.1?noext\",\n",
       "      \"vega-embed\": \"https://cdn.jsdelivr.net/npm//vega-embed@6?noext\",\n",
       "    };\n",
       "\n",
       "    function loadScript(lib) {\n",
       "      return new Promise(function(resolve, reject) {\n",
       "        var s = document.createElement('script');\n",
       "        s.src = paths[lib];\n",
       "        s.async = true;\n",
       "        s.onload = () => resolve(paths[lib]);\n",
       "        s.onerror = () => reject(`Error loading script: ${paths[lib]}`);\n",
       "        document.getElementsByTagName(\"head\")[0].appendChild(s);\n",
       "      });\n",
       "    }\n",
       "\n",
       "    function showError(err) {\n",
       "      outputDiv.innerHTML = `<div class=\"error\" style=\"color:red;\">${err}</div>`;\n",
       "      throw err;\n",
       "    }\n",
       "\n",
       "    function displayChart(vegaEmbed) {\n",
       "      vegaEmbed(outputDiv, spec, embedOpt)\n",
       "        .catch(err => showError(`Javascript Error: ${err.message}<br>This usually means there's a typo in your chart specification. See the javascript console for the full traceback.`));\n",
       "    }\n",
       "\n",
       "    if(typeof define === \"function\" && define.amd) {\n",
       "      requirejs.config({paths});\n",
       "      require([\"vega-embed\"], displayChart, err => showError(`Error loading script: ${err.message}`));\n",
       "    } else if (typeof vegaEmbed === \"function\") {\n",
       "      displayChart(vegaEmbed);\n",
       "    } else {\n",
       "      loadScript(\"vega\")\n",
       "        .then(() => loadScript(\"vega-lite\"))\n",
       "        .then(() => loadScript(\"vega-embed\"))\n",
       "        .catch(showError)\n",
       "        .then(() => displayChart(vegaEmbed));\n",
       "    }\n",
       "  })({\"config\": {\"view\": {\"continuousWidth\": 400, \"continuousHeight\": 300}}, \"data\": {\"name\": \"data-6b23df20370dfefba159c578e9745d11\"}, \"mark\": \"bar\", \"encoding\": {\"x\": {\"type\": \"temporal\", \"field\": \"date\", \"timeUnit\": \"month\"}, \"y\": {\"type\": \"quantitative\", \"field\": \"count\"}}, \"$schema\": \"https://vega.github.io/schema/vega-lite/v4.8.1.json\", \"datasets\": {\"data-6b23df20370dfefba159c578e9745d11\": [{\"metric\": \"Observers\", \"date\": \"2020-01-01T00:00:00\", \"count\": 36}, {\"metric\": \"Observers\", \"date\": \"2020-02-01T00:00:00\", \"count\": 41}, {\"metric\": \"Observers\", \"date\": \"2020-03-01T00:00:00\", \"count\": 71}, {\"metric\": \"Observers\", \"date\": \"2020-04-01T00:00:00\", \"count\": 140}, {\"metric\": \"Observers\", \"date\": \"2020-05-01T00:00:00\", \"count\": 361}, {\"metric\": \"Observers\", \"date\": \"2020-06-01T00:00:00\", \"count\": 456}, {\"metric\": \"Observers\", \"date\": \"2020-07-01T00:00:00\", \"count\": 529}, {\"metric\": \"Observers\", \"date\": \"2020-08-01T00:00:00\", \"count\": 562}, {\"metric\": \"Observers\", \"date\": \"2020-09-01T00:00:00\", \"count\": 404}, {\"metric\": \"Observers\", \"date\": \"2020-10-01T00:00:00\", \"count\": 173}, {\"metric\": \"Observers\", \"date\": \"2020-11-01T00:00:00\", \"count\": 85}, {\"metric\": \"Observers\", \"date\": \"2020-12-01T00:00:00\", \"count\": 50}]}}, {\"mode\": \"vega-lite\"});\n",
       "</script>"
      ],
      "text/plain": [
       "alt.Chart(...)"
      ]
     },
     "execution_count": 9,
     "metadata": {},
     "output_type": "execute_result"
    }
   ],
   "source": [
    "observers_by_month = get_monthly_counts(get_observation_observers, 'Observers')\n",
    "alt.Chart(observers_by_month).mark_bar().encode(x='month(date):T', y='count:Q')"
   ]
  },
  {
   "cell_type": "code",
   "execution_count": 10,
   "id": "certified-monaco",
   "metadata": {},
   "outputs": [
    {
     "data": {
      "image/png": "[encoded data removed]",
      "text/plain": [
       "<IPython.core.display.Image object>"
      ]
     },
     "execution_count": 10,
     "metadata": {},
     "output_type": "execute_result"
    }
   ],
   "source": [
    "Image('images/observers_by_month.png')"
   ]
  },
  {
   "cell_type": "markdown",
   "id": "earlier-warren",
   "metadata": {},
   "source": [
    "### Show number of identifiers per month"
   ]
  },
  {
   "cell_type": "code",
   "execution_count": 11,
   "id": "parliamentary-edward",
   "metadata": {},
   "outputs": [
    {
     "name": "stdout",
     "output_type": "stream",
     "text": [
      "Total results for Jan: 134\n",
      "Total results for Feb: 149\n",
      "Total results for Mar: 184\n",
      "Total results for Apr: 349\n",
      "Total results for May: 618\n",
      "Total results for Jun: 585\n",
      "Total results for Jul: 661\n",
      "Total results for Aug: 615\n",
      "Total results for Sep: 490\n",
      "Total results for Oct: 314\n",
      "Total results for Nov: 216\n",
      "Total results for Dec: 206\n"
     ]
    },
    {
     "data": {
      "text/html": [
       "\n",
       "<div id=\"altair-viz-b54005d0ec68497ab9b5dede1754731e\"></div>\n",
       "<script type=\"text/javascript\">\n",
       "  (function(spec, embedOpt){\n",
       "    let outputDiv = document.currentScript.previousElementSibling;\n",
       "    if (outputDiv.id !== \"altair-viz-b54005d0ec68497ab9b5dede1754731e\") {\n",
       "      outputDiv = document.getElementById(\"altair-viz-b54005d0ec68497ab9b5dede1754731e\");\n",
       "    }\n",
       "    const paths = {\n",
       "      \"vega\": \"https://cdn.jsdelivr.net/npm//vega@5?noext\",\n",
       "      \"vega-lib\": \"https://cdn.jsdelivr.net/npm//vega-lib?noext\",\n",
       "      \"vega-lite\": \"https://cdn.jsdelivr.net/npm//vega-lite@4.8.1?noext\",\n",
       "      \"vega-embed\": \"https://cdn.jsdelivr.net/npm//vega-embed@6?noext\",\n",
       "    };\n",
       "\n",
       "    function loadScript(lib) {\n",
       "      return new Promise(function(resolve, reject) {\n",
       "        var s = document.createElement('script');\n",
       "        s.src = paths[lib];\n",
       "        s.async = true;\n",
       "        s.onload = () => resolve(paths[lib]);\n",
       "        s.onerror = () => reject(`Error loading script: ${paths[lib]}`);\n",
       "        document.getElementsByTagName(\"head\")[0].appendChild(s);\n",
       "      });\n",
       "    }\n",
       "\n",
       "    function showError(err) {\n",
       "      outputDiv.innerHTML = `<div class=\"error\" style=\"color:red;\">${err}</div>`;\n",
       "      throw err;\n",
       "    }\n",
       "\n",
       "    function displayChart(vegaEmbed) {\n",
       "      vegaEmbed(outputDiv, spec, embedOpt)\n",
       "        .catch(err => showError(`Javascript Error: ${err.message}<br>This usually means there's a typo in your chart specification. See the javascript console for the full traceback.`));\n",
       "    }\n",
       "\n",
       "    if(typeof define === \"function\" && define.amd) {\n",
       "      requirejs.config({paths});\n",
       "      require([\"vega-embed\"], displayChart, err => showError(`Error loading script: ${err.message}`));\n",
       "    } else if (typeof vegaEmbed === \"function\") {\n",
       "      displayChart(vegaEmbed);\n",
       "    } else {\n",
       "      loadScript(\"vega\")\n",
       "        .then(() => loadScript(\"vega-lite\"))\n",
       "        .then(() => loadScript(\"vega-embed\"))\n",
       "        .catch(showError)\n",
       "        .then(() => displayChart(vegaEmbed));\n",
       "    }\n",
       "  })({\"config\": {\"view\": {\"continuousWidth\": 400, \"continuousHeight\": 300}}, \"data\": {\"name\": \"data-968b7405da38bff62375886af5f78404\"}, \"mark\": \"bar\", \"encoding\": {\"x\": {\"type\": \"temporal\", \"field\": \"date\", \"timeUnit\": \"month\"}, \"y\": {\"type\": \"quantitative\", \"field\": \"count\"}}, \"$schema\": \"https://vega.github.io/schema/vega-lite/v4.8.1.json\", \"datasets\": {\"data-968b7405da38bff62375886af5f78404\": [{\"metric\": \"Identifiers\", \"date\": \"2020-01-01T00:00:00\", \"count\": 134}, {\"metric\": \"Identifiers\", \"date\": \"2020-02-01T00:00:00\", \"count\": 149}, {\"metric\": \"Identifiers\", \"date\": \"2020-03-01T00:00:00\", \"count\": 184}, {\"metric\": \"Identifiers\", \"date\": \"2020-04-01T00:00:00\", \"count\": 349}, {\"metric\": \"Identifiers\", \"date\": \"2020-05-01T00:00:00\", \"count\": 618}, {\"metric\": \"Identifiers\", \"date\": \"2020-06-01T00:00:00\", \"count\": 585}, {\"metric\": \"Identifiers\", \"date\": \"2020-07-01T00:00:00\", \"count\": 661}, {\"metric\": \"Identifiers\", \"date\": \"2020-08-01T00:00:00\", \"count\": 615}, {\"metric\": \"Identifiers\", \"date\": \"2020-09-01T00:00:00\", \"count\": 490}, {\"metric\": \"Identifiers\", \"date\": \"2020-10-01T00:00:00\", \"count\": 314}, {\"metric\": \"Identifiers\", \"date\": \"2020-11-01T00:00:00\", \"count\": 216}, {\"metric\": \"Identifiers\", \"date\": \"2020-12-01T00:00:00\", \"count\": 206}]}}, {\"mode\": \"vega-lite\"});\n",
       "</script>"
      ],
      "text/plain": [
       "alt.Chart(...)"
      ]
     },
     "execution_count": 11,
     "metadata": {},
     "output_type": "execute_result"
    }
   ],
   "source": [
    "identifiers_by_month = get_monthly_counts(get_observation_identifiers, 'Identifiers')\n",
    "alt.Chart(identifiers_by_month).mark_bar().encode(x='month(date):T', y='count:Q')"
   ]
  },
  {
   "cell_type": "code",
   "execution_count": 12,
   "id": "international-israel",
   "metadata": {},
   "outputs": [
    {
     "data": {
      "image/png": "[encoded data removed]",
      "text/plain": [
       "<IPython.core.display.Image object>"
      ]
     },
     "execution_count": 12,
     "metadata": {},
     "output_type": "execute_result"
    }
   ],
   "source": [
    "Image('images/identifiers_by_month.png')"
   ]
  },
  {
   "cell_type": "markdown",
   "id": "another-ambassador",
   "metadata": {},
   "source": [
    "### Combine all four metrics into one chart"
   ]
  },
  {
   "cell_type": "code",
   "execution_count": 13,
   "id": "serious-literacy",
   "metadata": {},
   "outputs": [
    {
     "data": {
      "text/html": [
       "\n",
       "<div id=\"altair-viz-0d75badc81494be3a88180d2ee8e8578\"></div>\n",
       "<script type=\"text/javascript\">\n",
       "  (function(spec, embedOpt){\n",
       "    let outputDiv = document.currentScript.previousElementSibling;\n",
       "    if (outputDiv.id !== \"altair-viz-0d75badc81494be3a88180d2ee8e8578\") {\n",
       "      outputDiv = document.getElementById(\"altair-viz-0d75badc81494be3a88180d2ee8e8578\");\n",
       "    }\n",
       "    const paths = {\n",
       "      \"vega\": \"https://cdn.jsdelivr.net/npm//vega@5?noext\",\n",
       "      \"vega-lib\": \"https://cdn.jsdelivr.net/npm//vega-lib?noext\",\n",
       "      \"vega-lite\": \"https://cdn.jsdelivr.net/npm//vega-lite@4.8.1?noext\",\n",
       "      \"vega-embed\": \"https://cdn.jsdelivr.net/npm//vega-embed@6?noext\",\n",
       "    };\n",
       "\n",
       "    function loadScript(lib) {\n",
       "      return new Promise(function(resolve, reject) {\n",
       "        var s = document.createElement('script');\n",
       "        s.src = paths[lib];\n",
       "        s.async = true;\n",
       "        s.onload = () => resolve(paths[lib]);\n",
       "        s.onerror = () => reject(`Error loading script: ${paths[lib]}`);\n",
       "        document.getElementsByTagName(\"head\")[0].appendChild(s);\n",
       "      });\n",
       "    }\n",
       "\n",
       "    function showError(err) {\n",
       "      outputDiv.innerHTML = `<div class=\"error\" style=\"color:red;\">${err}</div>`;\n",
       "      throw err;\n",
       "    }\n",
       "\n",
       "    function displayChart(vegaEmbed) {\n",
       "      vegaEmbed(outputDiv, spec, embedOpt)\n",
       "        .catch(err => showError(`Javascript Error: ${err.message}<br>This usually means there's a typo in your chart specification. See the javascript console for the full traceback.`));\n",
       "    }\n",
       "\n",
       "    if(typeof define === \"function\" && define.amd) {\n",
       "      requirejs.config({paths});\n",
       "      require([\"vega-embed\"], displayChart, err => showError(`Error loading script: ${err.message}`));\n",
       "    } else if (typeof vegaEmbed === \"function\") {\n",
       "      displayChart(vegaEmbed);\n",
       "    } else {\n",
       "      loadScript(\"vega\")\n",
       "        .then(() => loadScript(\"vega-lite\"))\n",
       "        .then(() => loadScript(\"vega-embed\"))\n",
       "        .catch(showError)\n",
       "        .then(() => displayChart(vegaEmbed));\n",
       "    }\n",
       "  })({\"config\": {\"view\": {\"continuousWidth\": 400, \"continuousHeight\": 300}, \"axis\": {\"labelFontSize\": 15, \"titleFontSize\": 20}}, \"data\": {\"name\": \"data-9e03e825d7deddf93c1c5fa3dd74433e\"}, \"mark\": \"line\", \"encoding\": {\"color\": {\"type\": \"nominal\", \"field\": \"metric\"}, \"strokeDash\": {\"type\": \"nominal\", \"field\": \"metric\"}, \"x\": {\"type\": \"temporal\", \"axis\": {\"title\": \"Month\"}, \"field\": \"date\", \"timeUnit\": \"month\"}, \"y\": {\"type\": \"quantitative\", \"axis\": {\"title\": \"Count\"}, \"field\": \"count\"}}, \"height\": 500, \"title\": \"iNaturalist activity in Alaska (2020)\", \"width\": 750, \"$schema\": \"https://vega.github.io/schema/vega-lite/v4.8.1.json\", \"datasets\": {\"data-9e03e825d7deddf93c1c5fa3dd74433e\": [{\"metric\": \"Observations\", \"date\": \"2020-01-01T00:00:00\", \"count\": 423}, {\"metric\": \"Observations\", \"date\": \"2020-02-01T00:00:00\", \"count\": 374}, {\"metric\": \"Observations\", \"date\": \"2020-03-01T00:00:00\", \"count\": 659}, {\"metric\": \"Observations\", \"date\": \"2020-04-01T00:00:00\", \"count\": 2665}, {\"metric\": \"Observations\", \"date\": \"2020-05-01T00:00:00\", \"count\": 5859}, {\"metric\": \"Observations\", \"date\": \"2020-06-01T00:00:00\", \"count\": 6240}, {\"metric\": \"Observations\", \"date\": \"2020-07-01T00:00:00\", \"count\": 7639}, {\"metric\": \"Observations\", \"date\": \"2020-08-01T00:00:00\", \"count\": 7011}, {\"metric\": \"Observations\", \"date\": \"2020-09-01T00:00:00\", \"count\": 4669}, {\"metric\": \"Observations\", \"date\": \"2020-10-01T00:00:00\", \"count\": 1510}, {\"metric\": \"Observations\", \"date\": \"2020-11-01T00:00:00\", \"count\": 976}, {\"metric\": \"Observations\", \"date\": \"2020-12-01T00:00:00\", \"count\": 1504}, {\"metric\": \"Taxa\", \"date\": \"2020-01-01T00:00:00\", \"count\": 183}, {\"metric\": \"Taxa\", \"date\": \"2020-02-01T00:00:00\", \"count\": 176}, {\"metric\": \"Taxa\", \"date\": \"2020-03-01T00:00:00\", \"count\": 318}, {\"metric\": \"Taxa\", \"date\": \"2020-04-01T00:00:00\", \"count\": 790}, {\"metric\": \"Taxa\", \"date\": \"2020-05-01T00:00:00\", \"count\": 1333}, {\"metric\": \"Taxa\", \"date\": \"2020-06-01T00:00:00\", \"count\": 1482}, {\"metric\": \"Taxa\", \"date\": \"2020-07-01T00:00:00\", \"count\": 1686}, {\"metric\": \"Taxa\", \"date\": \"2020-08-01T00:00:00\", \"count\": 1569}, {\"metric\": \"Taxa\", \"date\": \"2020-09-01T00:00:00\", \"count\": 1249}, {\"metric\": \"Taxa\", \"date\": \"2020-10-01T00:00:00\", \"count\": 638}, {\"metric\": \"Taxa\", \"date\": \"2020-11-01T00:00:00\", \"count\": 408}, {\"metric\": \"Taxa\", \"date\": \"2020-12-01T00:00:00\", \"count\": 550}, {\"metric\": \"Observers\", \"date\": \"2020-01-01T00:00:00\", \"count\": 36}, {\"metric\": \"Observers\", \"date\": \"2020-02-01T00:00:00\", \"count\": 41}, {\"metric\": \"Observers\", \"date\": \"2020-03-01T00:00:00\", \"count\": 71}, {\"metric\": \"Observers\", \"date\": \"2020-04-01T00:00:00\", \"count\": 140}, {\"metric\": \"Observers\", \"date\": \"2020-05-01T00:00:00\", \"count\": 361}, {\"metric\": \"Observers\", \"date\": \"2020-06-01T00:00:00\", \"count\": 456}, {\"metric\": \"Observers\", \"date\": \"2020-07-01T00:00:00\", \"count\": 529}, {\"metric\": \"Observers\", \"date\": \"2020-08-01T00:00:00\", \"count\": 562}, {\"metric\": \"Observers\", \"date\": \"2020-09-01T00:00:00\", \"count\": 404}, {\"metric\": \"Observers\", \"date\": \"2020-10-01T00:00:00\", \"count\": 173}, {\"metric\": \"Observers\", \"date\": \"2020-11-01T00:00:00\", \"count\": 85}, {\"metric\": \"Observers\", \"date\": \"2020-12-01T00:00:00\", \"count\": 50}, {\"metric\": \"Identifiers\", \"date\": \"2020-01-01T00:00:00\", \"count\": 134}, {\"metric\": \"Identifiers\", \"date\": \"2020-02-01T00:00:00\", \"count\": 149}, {\"metric\": \"Identifiers\", \"date\": \"2020-03-01T00:00:00\", \"count\": 184}, {\"metric\": \"Identifiers\", \"date\": \"2020-04-01T00:00:00\", \"count\": 349}, {\"metric\": \"Identifiers\", \"date\": \"2020-05-01T00:00:00\", \"count\": 618}, {\"metric\": \"Identifiers\", \"date\": \"2020-06-01T00:00:00\", \"count\": 585}, {\"metric\": \"Identifiers\", \"date\": \"2020-07-01T00:00:00\", \"count\": 661}, {\"metric\": \"Identifiers\", \"date\": \"2020-08-01T00:00:00\", \"count\": 615}, {\"metric\": \"Identifiers\", \"date\": \"2020-09-01T00:00:00\", \"count\": 490}, {\"metric\": \"Identifiers\", \"date\": \"2020-10-01T00:00:00\", \"count\": 314}, {\"metric\": \"Identifiers\", \"date\": \"2020-11-01T00:00:00\", \"count\": 216}, {\"metric\": \"Identifiers\", \"date\": \"2020-12-01T00:00:00\", \"count\": 206}]}}, {\"mode\": \"vega-lite\"});\n",
       "</script>"
      ],
      "text/plain": [
       "alt.Chart(...)"
      ]
     },
     "execution_count": 13,
     "metadata": {},
     "output_type": "execute_result"
    }
   ],
   "source": [
    "combined_results = observations_by_month.append([taxa_by_month, observers_by_month, identifiers_by_month])\n",
    "\n",
    "\n",
    "alt.Chart(\n",
    "    combined_results,\n",
    "    title=f'iNaturalist activity in {PLACE_NAME} ({YEAR})',\n",
    "    width=750,\n",
    "    height=500,\n",
    ").mark_line().encode(\n",
    "    alt.X('month(date):T', axis=alt.Axis(title=\"Month\")),\n",
    "    alt.Y('count:Q', axis=alt.Axis(title=\"Count\")),\n",
    "    color='metric',\n",
    "    strokeDash='metric',\n",
    ").configure_axis(\n",
    "    labelFontSize=15,\n",
    "    titleFontSize=20,\n",
    ")"
   ]
  },
  {
   "cell_type": "code",
   "execution_count": 14,
   "id": "portuguese-dining",
   "metadata": {},
   "outputs": [
    {
     "data": {
      "image/png": "[encoded data removed]",
      "text/plain": [
       "<IPython.core.display.Image object>"
      ]
     },
     "execution_count": 14,
     "metadata": {},
     "output_type": "execute_result"
    }
   ],
   "source": [
    "Image('images/combined_activity_stats.png')"
   ]
  }
 ],
 "metadata": {
  "kernelspec": {
   "display_name": "Python 3",
   "language": "python",
   "name": "python3"
  },
  "language_info": {
   "codemirror_mode": {
    "name": "ipython",
    "version": 3
   },
   "file_extension": ".py",
   "mimetype": "text/x-python",
   "name": "python",
   "nbconvert_exporter": "python",
   "pygments_lexer": "ipython3",
   "version": "3.8.6"
  }
 },
 "nbformat": 4,
 "nbformat_minor": 5
}
